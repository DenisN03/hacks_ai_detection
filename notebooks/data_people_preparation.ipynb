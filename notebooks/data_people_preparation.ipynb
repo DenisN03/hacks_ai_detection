{
 "cells": [
  {
   "cell_type": "code",
   "execution_count": 52,
   "metadata": {
    "colab": {
     "base_uri": "https://localhost:8080/"
    },
    "id": "VkOJXFmilOMb",
    "outputId": "842c134f-435f-4093-b6ab-372fd6c01767"
   },
   "outputs": [],
   "source": [
    "import os\n",
    "import shutil\n",
    "import pandas as pd\n",
    "from sklearn.model_selection import train_test_split\n",
    "from map_boxes import mean_average_precision_for_boxes\n",
    "import pandas as pd\n",
    "import random\n",
    "import cv2\n",
    "from matplotlib import pyplot as plt\n",
    "from shapely.geometry import Polygon"
   ]
  },
  {
   "cell_type": "code",
   "execution_count": 41,
   "metadata": {},
   "outputs": [],
   "source": [
    "dataset_path = \"../data/processed/image-deduplication_hhf\"\n",
    "\n",
    "colors = {0: (0,255,255), 1: (0,255,0), 2: (255,0,255)}"
   ]
  },
  {
   "cell_type": "markdown",
   "metadata": {},
   "source": [
    "# Подготовка данных для детекции head, face"
   ]
  },
  {
   "cell_type": "code",
   "execution_count": 131,
   "metadata": {},
   "outputs": [],
   "source": [
    "def yolo2bb(box, dw, dh):\n",
    "    class_id, x_center, y_center, w, h = box.strip().split()\n",
    "    x_center, y_center, w, h = float(x_center), float(y_center), float(w), float(h)\n",
    "    x_center = round(x_center * dw)\n",
    "    y_center = round(y_center * dh)\n",
    "    w = round(w * dw)\n",
    "    h = round(h * dh)\n",
    "    x = round(x_center - w / 2)\n",
    "    y = round(y_center - h / 2)\n",
    "\n",
    "    return class_id, x, y, x+w, y+h\n",
    "\n",
    "def crop_yolo(x_center, y_center, w, h, image):\n",
    "    x_center, y_center, w, h = float(x_center), float(y_center), float(w), float(h)\n",
    "    x_center = round(x_center * dw)\n",
    "    y_center = round(y_center * dh)\n",
    "    w = round(w * dw)\n",
    "    h = round(h * dh)\n",
    "    x = round(x_center - w / 2)\n",
    "    y = round(y_center - h / 2)\n",
    "\n",
    "    imgCrop = image[y:y + h, x:x + w]\n",
    "    return imgCrop\n",
    "\n",
    "def draw_label(class_id, box, image):\n",
    "    \n",
    "    x_l, y_t, x_r, y_b = box\n",
    "\n",
    "    # Line thickness of -1 px\n",
    "    # Thickness of -1 will fill the entire shape\n",
    "    thickness = 1\n",
    "    \n",
    "    image = cv2.rectangle(image, (x_l, y_t), (x_r, y_b), colors[int(class_id)], thickness)\n",
    "    plt.imshow(image)\n",
    "    plt.show()\n",
    "\n",
    "def bb_to_yolo(box, image_w, image_h):\n",
    "    x1, y1, x2, y2 = box\n",
    "    return [((x2 + x1)/(2*image_w)), ((y2 + y1)/(2*image_h)), (x2 - x1)/image_w, (y2 - y1)/image_h]\n",
    "\n",
    "def increase_bb(box, p, h, w):\n",
    "    \n",
    "    _, xmin, ymin, xmax, ymax = box\n",
    "    \n",
    "    xmin = max(0, xmin - p * (xmax - xmin))\n",
    "    xmax = min(w, xmax + p * (xmax - xmin))\n",
    "    ymin = max(0, ymin - p * (ymax - ymin))\n",
    "    ymax = min(h, ymax + p * (ymax - ymin))\n",
    "    \n",
    "    return int(xmin), int(ymin), int(xmax), int(ymax)"
   ]
  },
  {
   "cell_type": "code",
   "execution_count": 141,
   "metadata": {},
   "outputs": [
    {
     "name": "stdout",
     "output_type": "stream",
     "text": [
      "23-11-2021_02-37-54_PM.txt\n"
     ]
    }
   ],
   "source": [
    "path_label = dataset_path + '/labels/val/'\n",
    "path_images = dataset_path + '/images/val/'\n",
    "\n",
    "path_res_labels = dataset_path + '/labels/res_val/'\n",
    "path_res_images = dataset_path + '/images/res_val/'\n",
    "\n",
    "for label_file in os.listdir(path_label):\n",
    "    \n",
    "    print(label_file)\n",
    "    \n",
    "    base_name = os.path.splitext(label_file)[0]\n",
    "    image = cv2.imread(path_images + base_name + '.jpg')\n",
    "    \n",
    "    dh, dw, _ = image.shape\n",
    "    \n",
    "    with open(os.path.join(path, label_file), 'r') as label_data:\n",
    "        bboxes = []\n",
    "        for box in label_data:\n",
    "            bboxes.append(yolo2bb(box, dw, dh))\n",
    "        \n",
    "        i = 0\n",
    "        \n",
    "        for box in bboxes:\n",
    "            \n",
    "            class_id, x_l, y_t, x_r, y_b = box\n",
    "            \n",
    "            if class_id == '2':\n",
    "                \n",
    "                x_l, y_t, x_r, y_b = increase_bb(box, 0.15, dh, dw)\n",
    "                \n",
    "                imgCrop = image[y_t:y_b, x_l:x_r]\n",
    "                \n",
    "                cv2.imwrite(path_res_images + base_name + '_' + str(i) + '.jpg', imgCrop)\n",
    "                \n",
    "                \n",
    "                dhc, dwc, _ = imgCrop.shape\n",
    "                \n",
    "                \n",
    "                # create label file\n",
    "                with open(path_res_labels + base_name + '_' + str(i) + '.txt', 'w') as f:\n",
    "                \n",
    "                    \n",
    "                    i += 1\n",
    "                \n",
    "                    for box in bboxes:\n",
    "\n",
    "                        class_id, bx_l, by_t, bx_r, by_b = box\n",
    "\n",
    "                        if class_id != '2' and ( class_id == '0' or class_id == '1' ):\n",
    "\n",
    "                            polya = Polygon([(x_l, y_t), (x_l, y_b), (x_r, y_b), (x_r, y_t)]) \n",
    "                            polyb = Polygon([(bx_l, by_t), (bx_l, by_b), (bx_r, by_b), (bx_r, by_t)]) \n",
    "\n",
    "                            if polya.contains(polyb):\n",
    "                                new_bb = (bx_l-x_l, by_t-y_t, bx_r-x_l, by_b-y_t)\n",
    "                                \n",
    "#                                 draw_label(class_id, new_bb, imgCrop)\n",
    "\n",
    "                                lbl = bb_to_yolo(new_bb, dwc, dhc)\n",
    "                                \n",
    "                                data = class_id + ' ' + ' '.join(str(e) for e in lbl) + '\\n'\n",
    "                                \n",
    "                                f.write(data)"
   ]
  }
 ],
 "metadata": {
  "accelerator": "GPU",
  "colab": {
   "collapsed_sections": [],
   "name": "baseline.ipynb",
   "provenance": []
  },
  "gpuClass": "standard",
  "kernelspec": {
   "display_name": "Python 3",
   "language": "python",
   "name": "python3"
  },
  "language_info": {
   "codemirror_mode": {
    "name": "ipython",
    "version": 3
   },
   "file_extension": ".py",
   "mimetype": "text/x-python",
   "name": "python",
   "nbconvert_exporter": "python",
   "pygments_lexer": "ipython3",
   "version": "3.6.9"
  }
 },
 "nbformat": 4,
 "nbformat_minor": 1
}
