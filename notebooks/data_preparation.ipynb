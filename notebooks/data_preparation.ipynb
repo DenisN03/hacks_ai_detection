{
 "cells": [
  {
   "cell_type": "code",
   "execution_count": 2,
   "metadata": {
    "colab": {
     "base_uri": "https://localhost:8080/"
    },
    "id": "VkOJXFmilOMb",
    "outputId": "842c134f-435f-4093-b6ab-372fd6c01767"
   },
   "outputs": [],
   "source": [
    "import os\n",
    "import shutil\n",
    "import pandas as pd\n",
    "from sklearn.model_selection import train_test_split\n",
    "from map_boxes import mean_average_precision_for_boxes\n",
    "import pandas as pd\n",
    "import random"
   ]
  },
  {
   "cell_type": "code",
   "execution_count": 62,
   "metadata": {},
   "outputs": [],
   "source": [
    "train_labels_path = '../data/raw/train/labels/'\n",
    "train_images_path = '../data/raw/train/images/'\n",
    "test_images_path = '../data/raw/test/images/'\n",
    "\n",
    "interim_labels_path = '../data/interim/train/labels/'\n",
    "\n",
    "yolo_labels = '../data/data_for_yolo/data/labels/'\n",
    "\n",
    "class_names = {'human':3, 'head':1, 'face':2, 'car':0, 'carplate':4}"
   ]
  },
  {
   "cell_type": "code",
   "execution_count": 7,
   "metadata": {
    "colab": {
     "base_uri": "https://localhost:8080/"
    },
    "id": "J5pU7fnn8vH4",
    "outputId": "bc7d8672-aff8-4240-cf53-fece16189c9d"
   },
   "outputs": [
    {
     "data": {
      "text/plain": [
       "855"
      ]
     },
     "execution_count": 7,
     "metadata": {},
     "output_type": "execute_result"
    }
   ],
   "source": [
    "# Количество изображений для тестирования\n",
    "len(os.listdir(test_images_path))"
   ]
  },
  {
   "cell_type": "code",
   "execution_count": 5,
   "metadata": {
    "colab": {
     "base_uri": "https://localhost:8080/"
    },
    "id": "Mz2KHni68zOK",
    "outputId": "459103e6-28b4-4e58-921b-dd5d9296f61e"
   },
   "outputs": [
    {
     "data": {
      "text/plain": [
       "2002"
      ]
     },
     "execution_count": 5,
     "metadata": {},
     "output_type": "execute_result"
    }
   ],
   "source": [
    "# Количество изображений для обучения\n",
    "len(os.listdir(train_images_path))"
   ]
  },
  {
   "cell_type": "code",
   "execution_count": 6,
   "metadata": {
    "colab": {
     "base_uri": "https://localhost:8080/"
    },
    "id": "bOBWZga29_c4",
    "outputId": "ee0d5399-2167-4566-e02f-a89803149b99"
   },
   "outputs": [
    {
     "data": {
      "text/plain": [
       "head..txt        1741\n",
       "human..txt       1740\n",
       "car..txt         1647\n",
       "face..txt         630\n",
       "carplate..txt     246\n",
       "dtype: int64"
      ]
     },
     "execution_count": 6,
     "metadata": {},
     "output_type": "execute_result"
    }
   ],
   "source": [
    "#распределение объектов в train\n",
    "pd.Series([file_name.split('_')[-1] for file_name in os.listdir(train_labels_path)]).value_counts()"
   ]
  },
  {
   "cell_type": "code",
   "execution_count": 8,
   "metadata": {
    "id": "ixwz4xVvAWf5"
   },
   "outputs": [],
   "source": [
    "#в папке data_for_yolo создадим dataset.yaml со следующим содержимым\n",
    "\n",
    "yaml_content = \"\"\"\n",
    "train: ../data/data_for_yolo/data/images/train/\n",
    "val: ../data/data_for_yolo/data/images/test/\n",
    "\n",
    "# number of classes\n",
    "nc: 5\n",
    "\n",
    "# class names\n",
    "names: ['car', 'head', 'face', 'human', 'carplate']\n",
    "\"\"\"\n",
    "\n",
    "with open('../data/data_for_yolo/dataset.yaml', 'w') as f:\n",
    "    f.write(yaml_content)"
   ]
  },
  {
   "cell_type": "markdown",
   "metadata": {},
   "source": [
    "# Подготовка данных"
   ]
  },
  {
   "cell_type": "code",
   "execution_count": 68,
   "metadata": {},
   "outputs": [
    {
     "name": "stdout",
     "output_type": "stream",
     "text": [
      "mkdir: невозможно создать каталог «../data/interim»: Файл существует\r\n"
     ]
    }
   ],
   "source": [
    "!mkdir ../data/interim\n",
    "!mkdir ../data/interim/train\n",
    "!mkdir ../data/interim/train/labels/"
   ]
  },
  {
   "cell_type": "code",
   "execution_count": 88,
   "metadata": {},
   "outputs": [],
   "source": [
    "# Объединение разметки для каждого изображения в один файл\n",
    "\n",
    "for file in os.listdir(train_images_path):\n",
    "    \n",
    "    file_base = os.path.splitext(file)[0]\n",
    "    \n",
    "    file_labels = [file_name for file_name in os.listdir(train_labels_path) \n",
    "                   if file_base == '_'.join(file_name.split('_')[:-1])]\n",
    "    if len(file_labels) == 0:\n",
    "        print('File: {file} not contain lables')\n",
    "        continue\n",
    "    \n",
    "    # open file for write labels\n",
    "    with open(os.path.join(interim_labels_path, file_base + '.txt'), 'w') as file_label:\n",
    "        \n",
    "        # process labels files\n",
    "        for file in file_labels:\n",
    "            label = file.split('.')[0].split('_')[-1]\n",
    "            cls = class_names[label]\n",
    "\n",
    "            # read labels info and write it to result label file\n",
    "            with open(train_labels_path + file, 'r') as f:\n",
    "                for line in f:\n",
    "                    data = line.split(' ')\n",
    "                    data[0] = cls\n",
    "                    data = ' '.join(str(e) for e in data)\n",
    "                    file_label.write(data)"
   ]
  }
 ],
 "metadata": {
  "accelerator": "GPU",
  "colab": {
   "collapsed_sections": [],
   "name": "baseline.ipynb",
   "provenance": []
  },
  "gpuClass": "standard",
  "kernelspec": {
   "display_name": "Python 3",
   "language": "python",
   "name": "python3"
  },
  "language_info": {
   "codemirror_mode": {
    "name": "ipython",
    "version": 3
   },
   "file_extension": ".py",
   "mimetype": "text/x-python",
   "name": "python",
   "nbconvert_exporter": "python",
   "pygments_lexer": "ipython3",
   "version": "3.6.9"
  }
 },
 "nbformat": 4,
 "nbformat_minor": 1
}
